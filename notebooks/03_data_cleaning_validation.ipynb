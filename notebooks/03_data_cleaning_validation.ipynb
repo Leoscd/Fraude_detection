{
 "cells": [
  {
   "cell_type": "code",
   "execution_count": 1,
   "metadata": {},
   "outputs": [
    {
     "name": "stdout",
     "output_type": "stream",
     "text": [
      "Directorio actual: d:\\Proyectos Personales ML\\Fraud detection\\notebooks\n",
      "Ruta esperada del config: d:\\Proyectos Personales ML\\Fraud detection\\notebooks\\..\\config\\config.yaml\n",
      "Ruta esperada de los datos: d:\\Proyectos Personales ML\\Fraud detection\\notebooks\\..\\data\\raw\\data2.csv\n",
      "\n",
      "¿Existen los archivos?\n",
      "config.yaml existe: True\n",
      "data2.csv existe: True\n"
     ]
    }
   ],
   "source": [
    "import os\n",
    "\n",
    "# Verificar directorio actual\n",
    "print(\"Directorio actual:\", os.getcwd())\n",
    "\n",
    "# Ver ruta completa al config.yaml que debería existir\n",
    "config_path = os.path.join(os.getcwd(), '..', 'config', 'config.yaml')\n",
    "print(\"Ruta esperada del config:\", config_path)\n",
    "\n",
    "# Ver ruta completa al archivo de datos\n",
    "data_path = os.path.join(os.getcwd(), '..', 'data', 'raw', 'data2.csv')\n",
    "print(\"Ruta esperada de los datos:\", data_path)\n",
    "\n",
    "# Verificar si los archivos existen\n",
    "print(\"\\n¿Existen los archivos?\")\n",
    "print(\"config.yaml existe:\", os.path.exists(config_path))\n",
    "print(\"data2.csv existe:\", os.path.exists(data_path))"
   ]
  },
  {
   "cell_type": "code",
   "execution_count": 2,
   "metadata": {},
   "outputs": [
    {
     "name": "stdout",
     "output_type": "stream",
     "text": [
      "Archivo YAML cargado correctamente\n"
     ]
    }
   ],
   "source": [
    "import yaml\n",
    "\n",
    "# Intentar leer el archivo directamente\n",
    "config_path = os.path.join(os.getcwd(), '..', 'config', 'config.yaml')\n",
    "try:\n",
    "    with open(config_path, 'r') as file:\n",
    "        config = yaml.safe_load(file)\n",
    "        print(\"Archivo YAML cargado correctamente\")\n",
    "except Exception as e:\n",
    "    print(f\"Error al cargar YAML: {str(e)}\")"
   ]
  },
  {
   "cell_type": "code",
   "execution_count": 3,
   "metadata": {},
   "outputs": [
    {
     "name": "stdout",
     "output_type": "stream",
     "text": [
      "Buscando config en: d:\\Proyectos Personales ML\\Fraud detection\\config\\config.yaml\n",
      "Ruta de datos: d:\\Proyectos Personales ML\\Fraud detection\\data\\raw\\data2.csv\n",
      "Datos cargados exitosamente\n",
      "(10000, 6)\n",
      "  Profession  Income   Credit_card_number Expiry  Security_code  Fraud\n",
      "0     DOCTOR   42509     3515418493460774  07/25            251      1\n",
      "1     DOCTOR   80334      213134223583196  05/32            858      1\n",
      "2     LAWYER   91552     4869615013764888  03/30            755      1\n",
      "3     LAWYER   43623      341063356109385  01/29            160      1\n",
      "4     DOCTOR   22962  4707418777543978402  11/30            102      0\n"
     ]
    }
   ],
   "source": [
    "import os\n",
    "import sys\n",
    "root_dir = os.path.abspath(os.path.join(os.getcwd(), '..'))\n",
    "sys.path.append(root_dir)\n",
    "\n",
    "from src.data.data_loader import DataLoader\n",
    "\n",
    "# Cargar datos\n",
    "data_loader = DataLoader()\n",
    "df = data_loader.load_data()\n",
    "\n",
    "if df is not None:\n",
    "    print(df.shape)\n",
    "    print(df.head())"
   ]
  },
  {
   "cell_type": "markdown",
   "metadata": {},
   "source": []
  },
  {
   "cell_type": "code",
   "execution_count": 4,
   "metadata": {},
   "outputs": [],
   "source": [
    "import pandas as pd\n",
    "import numpy as np\n",
    "import matplotlib.pyplot as plt\n",
    "import seaborn as sns\n",
    "from  sklearn.pipeline import Pipeline\n",
    "from sklearn.base import BaseEstimator, TransformerMixin"
   ]
  },
  {
   "cell_type": "code",
   "execution_count": 5,
   "metadata": {},
   "outputs": [
    {
     "name": "stdout",
     "output_type": "stream",
     "text": [
      "['Income', 'Security_code']\n"
     ]
    }
   ],
   "source": [
    "numeric_cols= ['Income','Security_code']\n",
    "\n"
   ]
  },
  {
   "cell_type": "code",
   "execution_count": 6,
   "metadata": {},
   "outputs": [
    {
     "name": "stdout",
     "output_type": "stream",
     "text": [
      " Outliers en Income: 83\n",
      " Outliers en Security_code: 719\n"
     ]
    }
   ],
   "source": [
    "for col in numeric_cols:\n",
    "    Q1= df[col].quantile(0.25)\n",
    "    Q3= df[col].quantile(0.75)\n",
    "    IQR= Q3 - Q1\n",
    "    lower= Q1 - 1.5*IQR\n",
    "    upper= Q1 + 1.5*IQR\n",
    "    outliers = sum((df[col]<lower) | (df[col]>upper))\n",
    "    print (f\" Outliers en {col}: {outliers}\")\n",
    "     \n",
    "    "
   ]
  },
  {
   "cell_type": "code",
   "execution_count": 7,
   "metadata": {},
   "outputs": [
    {
     "data": {
      "image/png": "[encoded data removed]",
      "text/plain": [
       "<Figure size 1000x400 with 1 Axes>"
      ]
     },
     "metadata": {},
     "output_type": "display_data"
    }
   ],
   "source": [
    "# visualiación\n",
    "plt.figure(figsize=(10,4))\n",
    "sns.boxplot(x=df[col])\n",
    "plt.title(f'Distribucion de {col}')\n",
    "plt.show()\n",
    "\n",
    "\n"
   ]
  },
  {
   "cell_type": "code",
   "execution_count": 8,
   "metadata": {},
   "outputs": [
    {
     "name": "stdout",
     "output_type": "stream",
     "text": [
      "Rangos de variables numéricas:\n",
      "            Income  Security_code\n",
      "count  10000.00000   10000.000000\n",
      "mean   49761.20600     863.587800\n",
      "std    28837.72928    1484.424959\n",
      "min        1.00000       0.000000\n",
      "25%    24863.75000     275.000000\n",
      "50%    49483.00000     539.500000\n",
      "75%    74483.00000     813.250000\n",
      "max    99986.00000    9990.000000\n",
      "\n",
      "Distribución de años de vencimiento:\n",
      "expiry_year\n",
      "1     882\n",
      "2     740\n",
      "3     810\n",
      "4     818\n",
      "5     852\n",
      "6     842\n",
      "7     910\n",
      "8     874\n",
      "9     785\n",
      "10    798\n",
      "11    788\n",
      "12    901\n",
      "Name: count, dtype: int64\n",
      "\n",
      "Meses de vencimiento válidos:\n",
      "Meses inválidos encontrados: 10000\n",
      "\n",
      "Longitud de códigos de seguridad:\n",
      "security_code_length\n",
      "3    8383\n",
      "2     805\n",
      "4     723\n",
      "1      89\n",
      "Name: count, dtype: int64\n"
     ]
    }
   ],
   "source": [
    "# Validaciones adicionales\n",
    "# 1. Verificar rangos válidos\n",
    "print(\"Rangos de variables numéricas:\")\n",
    "print(df[['Income', 'Security_code']].describe())\n",
    "\n",
    "# 2. Verificar consistencia en fechas de vencimiento\n",
    "df['expiry_year'] = df['Expiry'].str[:2].astype(int)\n",
    "df['expiry_month'] = df['Expiry'].str[3:].astype(int)\n",
    "\n",
    "print(\"\\nDistribución de años de vencimiento:\")\n",
    "print(df['expiry_year'].value_counts().sort_index())\n",
    "\n",
    "print(\"\\nMeses de vencimiento válidos:\")\n",
    "invalid_months = df[~df['expiry_month'].between(1, 12)]\n",
    "print(f\"Meses inválidos encontrados: {len(invalid_months)}\")\n",
    "\n",
    "# 3. Verificar longitud del código de seguridad\n",
    "df['security_code_length'] = df['Security_code'].astype(str).str.len()\n",
    "print(\"\\nLongitud de códigos de seguridad:\")\n",
    "print(df['security_code_length'].value_counts())"
   ]
  }
 ],
 "metadata": {
  "kernelspec": {
   "display_name": "fraud_detection",
   "language": "python",
   "name": "python3"
  },
  "language_info": {
   "codemirror_mode": {
    "name": "ipython",
    "version": 3
   },
   "file_extension": ".py",
   "mimetype": "text/x-python",
   "name": "python",
   "nbconvert_exporter": "python",
   "pygments_lexer": "ipython3",
   "version": "3.8.20"
  }
 },
 "nbformat": 4,
 "nbformat_minor": 2
}
