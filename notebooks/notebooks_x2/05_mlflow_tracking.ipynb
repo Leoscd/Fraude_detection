{
 "cells": [
  {
   "cell_type": "code",
   "execution_count": 1,
   "metadata": {},
   "outputs": [],
   "source": [
    "import pandas as pd\n",
    "import mlflow\n",
    "import numpy as np\n",
    "import mlflow.sklearn\n",
    "from sklearn.ensemble import RandomForestClassifier\n",
    "from sklearn.metrics import classification_report\n",
    "from sklearn.model_selection import train_test_split"
   ]
  },
  {
   "cell_type": "code",
   "execution_count": 2,
   "metadata": {},
   "outputs": [],
   "source": [
    "import os\n",
    "from pathlib import Path\n",
    "\n",
    "# Obtener ruta absoluta del proyecto\n",
    "project_path = Path('D:/Proyectos Personales ML/Fraud detection/mlflow')\n",
    "\n",
    "# Configurar MLflow\n",
    "mlflow.set_tracking_uri(f\"file://{project_path}\")"
   ]
  },
  {
   "cell_type": "code",
   "execution_count": 3,
   "metadata": {},
   "outputs": [
    {
     "name": "stderr",
     "output_type": "stream",
     "text": [
      "2025/02/18 11:41:03 WARNING mlflow.models.model: Model logged without a signature and input example. Please set `input_example` parameter when logging the model to auto infer the model signature.\n"
     ]
    },
    {
     "name": "stdout",
     "output_type": "stream",
     "text": [
      "Modelo entrenado y registrado en MLflow\n",
      "Puedes ver los resultados en la UI de MLflow en http://localhost:5000\n"
     ]
    }
   ],
   "source": [
    "# 1. Configurar MLflow para usar almacenamiento local\n",
    "mlflow.set_tracking_uri('mlruns')  # Esto creará una carpeta mlruns en tu directorio actual\n",
    "\n",
    "# Crear o obtener el experimento\n",
    "experiment_name = \"fraud_detection_experiment\"\n",
    "try:\n",
    "    experiment_id = mlflow.create_experiment(experiment_name)\n",
    "except:\n",
    "    experiment_id = mlflow.get_experiment_by_name(experiment_name).experiment_id\n",
    "\n",
    "# Crear o obtener el experimento\n",
    "experiment_name = \"fraud_detection_experiment\"\n",
    "try:\n",
    "    experiment_id = mlflow.create_experiment(experiment_name)\n",
    "except:\n",
    "    experiment_id = mlflow.get_experiment_by_name(experiment_name).experiment_id\n",
    "\n",
    "# Establecer el experimento activo\n",
    "mlflow.set_experiment(experiment_name)\n",
    "\n",
    "# 2. Cargar datos y preparar\n",
    "df = pd.read_csv('D:/Proyectos Personales ML/Fraud detection/data/processed/data_processed.csv')\n",
    "X = df.drop('Class', axis=1)\n",
    "y = df['Class']\n",
    "\n",
    "# Split de datos\n",
    "X_train, X_test, y_train, y_test = train_test_split(X, y, test_size=0.2, random_state=42)\n",
    "\n",
    "# 3. Parámetros del modelo\n",
    "best_params = {\n",
    "    'n_estimators': 200,\n",
    "    'max_depth': 20,\n",
    "    'min_samples_split': 2,\n",
    "    'max_features': 'sqrt'\n",
    "}\n",
    "\n",
    "# 4. Función para entrenar y registrar en MLflow\n",
    "def train_and_log_model(X_train, X_test, y_train, y_test, params):\n",
    "    with mlflow.start_run(run_name=\"random_forest_fraud_detection\"):\n",
    "        # Registrar parámetros\n",
    "        mlflow.log_params(params)\n",
    "        \n",
    "        # Entrenar modelo\n",
    "        rf = RandomForestClassifier(**params, random_state=42)\n",
    "        rf.fit(X_train, y_train)\n",
    "        \n",
    "        # Hacer predicciones\n",
    "        y_pred = rf.predict(X_test)\n",
    "        \n",
    "        # Calcular y registrar métricas\n",
    "        metrics = classification_report(y_test, y_pred, output_dict=True)\n",
    "        mlflow.log_metric(\"accuracy\", metrics['accuracy'])\n",
    "        mlflow.log_metric(\"precision\", metrics['1']['precision'])\n",
    "        mlflow.log_metric(\"recall\", metrics['1']['recall'])\n",
    "        mlflow.log_metric(\"f1-score\", metrics['1']['f1-score'])\n",
    "        \n",
    "        # Guardar el modelo\n",
    "        mlflow.sklearn.log_model(rf, \"random_forest_model\")\n",
    "        \n",
    "        return rf\n",
    "\n",
    "# 5. Entrenar y registrar el modelo\n",
    "model = train_and_log_model(X_train, X_test, y_train, y_test, best_params)\n",
    "\n",
    "print(\"Modelo entrenado y registrado en MLflow\")\n",
    "print(\"Puedes ver los resultados en la UI de MLflow en http://localhost:5000\")"
   ]
  }
 ],
 "metadata": {
  "kernelspec": {
   "display_name": "fraud_detection",
   "language": "python",
   "name": "python3"
  },
  "language_info": {
   "codemirror_mode": {
    "name": "ipython",
    "version": 3
   },
   "file_extension": ".py",
   "mimetype": "text/x-python",
   "name": "python",
   "nbconvert_exporter": "python",
   "pygments_lexer": "ipython3",
   "version": "3.8.20"
  }
 },
 "nbformat": 4,
 "nbformat_minor": 2
}
