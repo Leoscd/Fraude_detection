{
 "cells": [
  {
   "cell_type": "code",
   "execution_count": 1,
   "metadata": {},
   "outputs": [],
   "source": [
    "import pandas as pd\n",
    "import numpy as np\n",
    "import matplotlib.pyplot as plt\n",
    "import seaborn as sns"
   ]
  },
  {
   "cell_type": "code",
   "execution_count": 2,
   "metadata": {},
   "outputs": [],
   "source": [
    "from sklearn.model_selection import train_test_split, cross_val_score, StratifiedKFold\n",
    "from sklearn.metrics import classification_report, confusion_matrix, roc_auc_score"
   ]
  },
  {
   "cell_type": "code",
   "execution_count": 3,
   "metadata": {},
   "outputs": [],
   "source": [
    "import sys\n",
    "\n",
    "#carga de datos\n",
    "sys.path.append('D:\\Proyectos Personales ML\\Fraud detection\\data\\processed\\data_processed.csv')\n",
    "\n"
   ]
  },
  {
   "cell_type": "code",
   "execution_count": 4,
   "metadata": {},
   "outputs": [
    {
     "data": {
      "text/html": [
       "<div>\n",
       "<style scoped>\n",
       "    .dataframe tbody tr th:only-of-type {\n",
       "        vertical-align: middle;\n",
       "    }\n",
       "\n",
       "    .dataframe tbody tr th {\n",
       "        vertical-align: top;\n",
       "    }\n",
       "\n",
       "    .dataframe thead th {\n",
       "        text-align: right;\n",
       "    }\n",
       "</style>\n",
       "<table border=\"1\" class=\"dataframe\">\n",
       "  <thead>\n",
       "    <tr style=\"text-align: right;\">\n",
       "      <th></th>\n",
       "      <th>V14</th>\n",
       "      <th>V10</th>\n",
       "      <th>V4</th>\n",
       "      <th>V12</th>\n",
       "      <th>V1</th>\n",
       "      <th>Class</th>\n",
       "    </tr>\n",
       "  </thead>\n",
       "  <tbody>\n",
       "    <tr>\n",
       "      <th>0</th>\n",
       "      <td>-1.054631</td>\n",
       "      <td>-0.597739</td>\n",
       "      <td>0.716564</td>\n",
       "      <td>-0.216435</td>\n",
       "      <td>1.314539</td>\n",
       "      <td>0</td>\n",
       "    </tr>\n",
       "    <tr>\n",
       "      <th>1</th>\n",
       "      <td>0.573006</td>\n",
       "      <td>0.170547</td>\n",
       "      <td>0.694584</td>\n",
       "      <td>0.468322</td>\n",
       "      <td>-0.798672</td>\n",
       "      <td>0</td>\n",
       "    </tr>\n",
       "    <tr>\n",
       "      <th>2</th>\n",
       "      <td>-0.338340</td>\n",
       "      <td>2.051312</td>\n",
       "      <td>-1.308725</td>\n",
       "      <td>-0.594037</td>\n",
       "      <td>-0.391128</td>\n",
       "      <td>0</td>\n",
       "    </tr>\n",
       "    <tr>\n",
       "      <th>3</th>\n",
       "      <td>-0.436671</td>\n",
       "      <td>-1.238598</td>\n",
       "      <td>-0.029567</td>\n",
       "      <td>-0.586472</td>\n",
       "      <td>-0.060302</td>\n",
       "      <td>0</td>\n",
       "    </tr>\n",
       "    <tr>\n",
       "      <th>4</th>\n",
       "      <td>1.323225</td>\n",
       "      <td>1.166335</td>\n",
       "      <td>3.866438</td>\n",
       "      <td>-1.920966</td>\n",
       "      <td>1.848433</td>\n",
       "      <td>0</td>\n",
       "    </tr>\n",
       "  </tbody>\n",
       "</table>\n",
       "</div>"
      ],
      "text/plain": [
       "        V14       V10        V4       V12        V1  Class\n",
       "0 -1.054631 -0.597739  0.716564 -0.216435  1.314539      0\n",
       "1  0.573006  0.170547  0.694584  0.468322 -0.798672      0\n",
       "2 -0.338340  2.051312 -1.308725 -0.594037 -0.391128      0\n",
       "3 -0.436671 -1.238598 -0.029567 -0.586472 -0.060302      0\n",
       "4  1.323225  1.166335  3.866438 -1.920966  1.848433      0"
      ]
     },
     "execution_count": 4,
     "metadata": {},
     "output_type": "execute_result"
    }
   ],
   "source": [
    "DATA_PATH = r'D:\\Proyectos Personales ML\\Fraud detection\\data\\processed\\data_processed.csv'\n",
    "df = pd.read_csv(DATA_PATH)\n",
    "df.head(5)"
   ]
  },
  {
   "cell_type": "code",
   "execution_count": 5,
   "metadata": {},
   "outputs": [],
   "source": [
    "#separar features y target\n",
    "X= df.drop('Class', axis=1)\n",
    "y= df['Class']"
   ]
  },
  {
   "cell_type": "code",
   "execution_count": 6,
   "metadata": {},
   "outputs": [],
   "source": [
    "#separacion de datos\n",
    "X_train,X_test, y_train, y_test =train_test_split(X,y, test_size= 0.20, random_state= 42, stratify= y)"
   ]
  },
  {
   "cell_type": "code",
   "execution_count": 7,
   "metadata": {},
   "outputs": [],
   "source": [
    "from sklearn.linear_model import LogisticRegression\n",
    "from sklearn.ensemble import RandomForestClassifier\n",
    "from sklearn.svm import SVC\n",
    "from sklearn.neural_network import MLPClassifier\n",
    "from xgboost import XGBClassifier\n",
    "from lightgbm import LGBMClassifier\n",
    "from sklearn.metrics import (\n",
    "    accuracy_score,\n",
    "    precision_score,\n",
    "    recall_score,\n",
    "    f1_score,\n",
    "    roc_auc_score)\n",
    "from sklearn.model_selection import ParameterGrid"
   ]
  },
  {
   "cell_type": "code",
   "execution_count": 8,
   "metadata": {},
   "outputs": [],
   "source": [
    "def evaluate_models(models_dict, X_train, X_test, y_train, y_test):\n",
    "    \"\"\"\n",
    "    Evalúa múltiples modelos y retorna sus métricas\n",
    "    \n",
    "    Args:\n",
    "        models_dict: Diccionario de modelos {nombre: modelo}\n",
    "        X_train, X_test, y_train, y_test: Datos de entrenamiento y prueba\n",
    "    \n",
    "    Returns:\n",
    "        DataFrame con métricas de cada modelo\n",
    "    \"\"\"\n",
    "    results = []\n",
    "    \n",
    "    for name, model in models_dict.items():\n",
    "        # Entrenar modelo\n",
    "        model.fit(X_train, y_train)\n",
    "        \n",
    "        # Predecir\n",
    "        y_pred = model.predict(X_test)\n",
    "        \n",
    "        # Calcular métricas\n",
    "        accuracy = accuracy_score(y_test, y_pred)\n",
    "        precision = precision_score(y_test, y_pred)\n",
    "        recall = recall_score(y_test, y_pred)\n",
    "        f1 = f1_score(y_test, y_pred)\n",
    "        auc = roc_auc_score(y_test, y_pred)\n",
    "        \n",
    "        results.append({\n",
    "            'Model': name,\n",
    "            'Accuracy': accuracy,\n",
    "            'Precision': precision,\n",
    "            'Recall': recall,\n",
    "            'F1-Score': f1,\n",
    "            'AUC-ROC': auc\n",
    "        })\n",
    "    \n",
    "    return pd.DataFrame(results)"
   ]
  },
  {
   "cell_type": "code",
   "execution_count": 9,
   "metadata": {},
   "outputs": [],
   "source": [
    "def grid_search_experiments(model_class, param_grid, X_train, X_test, y_train, y_test):\n",
    "    \"\"\"\n",
    "    Experimenta con diferentes combinaciones de parámetros\n",
    "    \n",
    "    Args:\n",
    "        model_class: Clase del modelo a experimentar\n",
    "        param_grid: Diccionario con parámetros a probar\n",
    "        X_train, X_test, y_train, y_test: Datos\n",
    "    \n",
    "    Returns:\n",
    "        DataFrame con resultados de cada combinación\n",
    "    \"\"\"\n",
    "    results = []\n",
    "    \n",
    "    # Generar todas las combinaciones de parámetros\n",
    "    param_combinations = ParameterGrid(param_grid)\n",
    "    \n",
    "    for params in param_combinations:\n",
    "        model = model_class(**params)\n",
    "        model.fit(X_train, y_train)\n",
    "        y_pred = model.predict(X_test)\n",
    "        \n",
    "        results.append({\n",
    "            'Parameters': params,\n",
    "            'Accuracy': accuracy_score(y_test, y_pred),\n",
    "            'Precision': precision_score(y_test, y_pred),\n",
    "            'Recall': recall_score(y_test, y_pred),\n",
    "            'F1-Score': f1_score(y_test, y_pred),\n",
    "            'AUC-ROC': roc_auc_score(y_test, y_pred)\n",
    "        })\n",
    "    \n",
    "    return pd.DataFrame(results)"
   ]
  },
  {
   "cell_type": "code",
   "execution_count": 10,
   "metadata": {},
   "outputs": [],
   "source": [
    "def plot_model_comparisons(results_df, metric='Precision'):\n",
    "    \"\"\"\n",
    "    Visualiza comparación de modelos\n",
    "    \n",
    "    Args:\n",
    "        results_df: DataFrame con resultados\n",
    "        metric: Métrica a visualizar\n",
    "    \"\"\"\n",
    "    plt.figure(figsize=(12, 6))\n",
    "    sns.barplot(data=results_df, x='Model', y=metric)\n",
    "    plt.title(f'Comparación de Modelos - {metric}')\n",
    "    plt.xticks(rotation=45)\n",
    "    plt.tight_layout()\n",
    "    plt.show()"
   ]
  },
  {
   "cell_type": "code",
   "execution_count": 11,
   "metadata": {},
   "outputs": [],
   "source": [
    "# 4. Definir los modelos base\n",
    "models = {\n",
    "    'Logistic Regression': LogisticRegression(),\n",
    "    'Random Forest': RandomForestClassifier(),\n",
    "    'SVM': SVC(probability=True),\n",
    "    'XGBoost': XGBClassifier(),\n",
    "    'LightGBM': LGBMClassifier(),\n",
    "    'Neural Network': MLPClassifier()\n",
    "}"
   ]
  },
  {
   "cell_type": "code",
   "execution_count": 14,
   "metadata": {},
   "outputs": [
    {
     "name": "stdout",
     "output_type": "stream",
     "text": [
      "[LightGBM] [Info] Number of positive: 22745, number of negative: 45489\n",
      "[LightGBM] [Info] Auto-choosing col-wise multi-threading, the overhead of testing was 0.001101 seconds.\n",
      "You can set `force_col_wise=true` to remove the overhead.\n",
      "[LightGBM] [Info] Total Bins 1275\n",
      "[LightGBM] [Info] Number of data points in the train set: 68234, number of used features: 5\n",
      "[LightGBM] [Info] [binary:BoostFromScore]: pavg=0.333338 -> initscore=-0.693125\n",
      "[LightGBM] [Info] Start training from score -0.693125\n"
     ]
    }
   ],
   "source": [
    "result = evaluate_models(models_dict= models, X_train= X_train, X_test= X_test, y_train= y_train, y_test= y_test)"
   ]
  },
  {
   "cell_type": "code",
   "execution_count": 15,
   "metadata": {},
   "outputs": [
    {
     "data": {
      "image/png": "[encoded data removed]",
      "text/plain": [
       "<Figure size 1200x600 with 1 Axes>"
      ]
     },
     "metadata": {},
     "output_type": "display_data"
    }
   ],
   "source": [
    "plot_model_comparisons(results_df= result, metric= 'Precision')"
   ]
  },
  {
   "cell_type": "code",
   "execution_count": 16,
   "metadata": {},
   "outputs": [
    {
     "name": "stdout",
     "output_type": "stream",
     "text": [
      "                 Model  Accuracy  Precision    Recall  F1-Score   AUC-ROC\n",
      "0  Logistic Regression  0.972273   0.975205  0.940732  0.957658  0.964387\n",
      "1        Random Forest  0.990679   0.990069  0.981885  0.985960  0.988481\n",
      "2                  SVM  0.974149   0.984661  0.937038  0.960260  0.964870\n",
      "3              XGBoost  0.989331   0.988810  0.979071  0.983917  0.986766\n",
      "4             LightGBM  0.986166   0.986260  0.972037  0.979097  0.982633\n",
      "5       Neural Network  0.982238   0.976119  0.970454  0.973278  0.979292\n"
     ]
    }
   ],
   "source": [
    "print(result)"
   ]
  },
  {
   "cell_type": "code",
   "execution_count": 17,
   "metadata": {},
   "outputs": [
    {
     "name": "stdout",
     "output_type": "stream",
     "text": [
      "Ordenado por Accuracy:\n",
      "                 Model  Accuracy  Precision    Recall  F1-Score   AUC-ROC\n",
      "1        Random Forest  0.990679   0.990069  0.981885  0.985960  0.988481\n",
      "3              XGBoost  0.989331   0.988810  0.979071  0.983917  0.986766\n",
      "4             LightGBM  0.986166   0.986260  0.972037  0.979097  0.982633\n",
      "5       Neural Network  0.982238   0.976119  0.970454  0.973278  0.979292\n",
      "2                  SVM  0.974149   0.984661  0.937038  0.960260  0.964870\n",
      "0  Logistic Regression  0.972273   0.975205  0.940732  0.957658  0.964387\n"
     ]
    }
   ],
   "source": [
    "print(\"Ordenado por Accuracy:\")\n",
    "print(result.sort_values('Accuracy', ascending=False))"
   ]
  }
 ],
 "metadata": {
  "kernelspec": {
   "display_name": "fraud_detection",
   "language": "python",
   "name": "python3"
  },
  "language_info": {
   "codemirror_mode": {
    "name": "ipython",
    "version": 3
   },
   "file_extension": ".py",
   "mimetype": "text/x-python",
   "name": "python",
   "nbconvert_exporter": "python",
   "pygments_lexer": "ipython3",
   "version": "3.8.20"
  }
 },
 "nbformat": 4,
 "nbformat_minor": 2
}
