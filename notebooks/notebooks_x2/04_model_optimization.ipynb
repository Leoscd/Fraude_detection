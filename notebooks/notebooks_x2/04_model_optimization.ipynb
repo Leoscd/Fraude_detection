{
 "cells": [
  {
   "cell_type": "code",
   "execution_count": 1,
   "metadata": {},
   "outputs": [],
   "source": [
    "import pandas as pd\n",
    "import numpy as np\n",
    "import matplotlib.pyplot as plt\n",
    "import seaborn as sns\n",
    "from sklearn.ensemble import RandomForestClassifier\n",
    "from sklearn.model_selection import (\n",
    "    train_test_split, \n",
    "    GridSearchCV, \n",
    "    cross_val_score, \n",
    "    learning_curve,\n",
    "    StratifiedKFold\n",
    ")\n",
    "from sklearn.metrics import classification_report, confusion_matrix, roc_curve, auc"
   ]
  },
  {
   "cell_type": "code",
   "execution_count": 2,
   "metadata": {},
   "outputs": [],
   "source": [
    "import sys\n",
    "\n",
    "#carga de datos\n",
    "sys.path.append('D:\\Proyectos Personales ML\\Fraud detection\\data\\processed\\data_processed.csv')\n"
   ]
  },
  {
   "cell_type": "code",
   "execution_count": 3,
   "metadata": {},
   "outputs": [
    {
     "data": {
      "text/html": [
       "<div>\n",
       "<style scoped>\n",
       "    .dataframe tbody tr th:only-of-type {\n",
       "        vertical-align: middle;\n",
       "    }\n",
       "\n",
       "    .dataframe tbody tr th {\n",
       "        vertical-align: top;\n",
       "    }\n",
       "\n",
       "    .dataframe thead th {\n",
       "        text-align: right;\n",
       "    }\n",
       "</style>\n",
       "<table border=\"1\" class=\"dataframe\">\n",
       "  <thead>\n",
       "    <tr style=\"text-align: right;\">\n",
       "      <th></th>\n",
       "      <th>V14</th>\n",
       "      <th>V10</th>\n",
       "      <th>V4</th>\n",
       "      <th>V12</th>\n",
       "      <th>V1</th>\n",
       "      <th>Class</th>\n",
       "    </tr>\n",
       "  </thead>\n",
       "  <tbody>\n",
       "    <tr>\n",
       "      <th>0</th>\n",
       "      <td>-1.054631</td>\n",
       "      <td>-0.597739</td>\n",
       "      <td>0.716564</td>\n",
       "      <td>-0.216435</td>\n",
       "      <td>1.314539</td>\n",
       "      <td>0</td>\n",
       "    </tr>\n",
       "    <tr>\n",
       "      <th>1</th>\n",
       "      <td>0.573006</td>\n",
       "      <td>0.170547</td>\n",
       "      <td>0.694584</td>\n",
       "      <td>0.468322</td>\n",
       "      <td>-0.798672</td>\n",
       "      <td>0</td>\n",
       "    </tr>\n",
       "    <tr>\n",
       "      <th>2</th>\n",
       "      <td>-0.338340</td>\n",
       "      <td>2.051312</td>\n",
       "      <td>-1.308725</td>\n",
       "      <td>-0.594037</td>\n",
       "      <td>-0.391128</td>\n",
       "      <td>0</td>\n",
       "    </tr>\n",
       "    <tr>\n",
       "      <th>3</th>\n",
       "      <td>-0.436671</td>\n",
       "      <td>-1.238598</td>\n",
       "      <td>-0.029567</td>\n",
       "      <td>-0.586472</td>\n",
       "      <td>-0.060302</td>\n",
       "      <td>0</td>\n",
       "    </tr>\n",
       "    <tr>\n",
       "      <th>4</th>\n",
       "      <td>1.323225</td>\n",
       "      <td>1.166335</td>\n",
       "      <td>3.866438</td>\n",
       "      <td>-1.920966</td>\n",
       "      <td>1.848433</td>\n",
       "      <td>0</td>\n",
       "    </tr>\n",
       "  </tbody>\n",
       "</table>\n",
       "</div>"
      ],
      "text/plain": [
       "        V14       V10        V4       V12        V1  Class\n",
       "0 -1.054631 -0.597739  0.716564 -0.216435  1.314539      0\n",
       "1  0.573006  0.170547  0.694584  0.468322 -0.798672      0\n",
       "2 -0.338340  2.051312 -1.308725 -0.594037 -0.391128      0\n",
       "3 -0.436671 -1.238598 -0.029567 -0.586472 -0.060302      0\n",
       "4  1.323225  1.166335  3.866438 -1.920966  1.848433      0"
      ]
     },
     "execution_count": 3,
     "metadata": {},
     "output_type": "execute_result"
    }
   ],
   "source": [
    "DATA_PATH = r'D:\\Proyectos Personales ML\\Fraud detection\\data\\processed\\data_processed.csv'\n",
    "df = pd.read_csv(DATA_PATH)\n",
    "df.head(5)"
   ]
  },
  {
   "cell_type": "code",
   "execution_count": 7,
   "metadata": {},
   "outputs": [
    {
     "name": "stdout",
     "output_type": "stream",
     "text": [
      "            V14        V10        V4       V12         V1\n",
      "0     -1.054631  -0.597739  0.716564 -0.216435   1.314539\n",
      "1      0.573006   0.170547  0.694584  0.468322  -0.798672\n",
      "2     -0.338340   2.051312 -1.308725 -0.594037  -0.391128\n",
      "3     -0.436671  -1.238598 -0.029567 -0.586472  -0.060302\n",
      "4      1.323225   1.166335  3.866438 -1.920966   1.848433\n",
      "...         ...        ...       ...       ...        ...\n",
      "85288 -8.142140  -6.480968  3.360348 -9.458892  -2.867263\n",
      "85289 -7.854171 -17.270223  6.989549 -9.798229 -20.190187\n",
      "85290 -6.978462  -8.414916  6.302369 -6.978159 -24.179971\n",
      "85291 -2.512324  -0.107139  2.526874 -0.134483   0.117404\n",
      "85292 -9.072711  -5.052502  3.320337 -4.610756 -13.192671\n",
      "\n",
      "[85293 rows x 5 columns]\n"
     ]
    }
   ],
   "source": [
    "#split de datos\n",
    "X = df.drop('Class', axis=1)\n",
    "y = df['Class']\n",
    "print(X)"
   ]
  },
  {
   "cell_type": "code",
   "execution_count": 8,
   "metadata": {},
   "outputs": [],
   "source": [
    "X_train, X_test, y_train, y_test = train_test_split(X, y, test_size= 0.20, random_state= 42, stratify= y)"
   ]
  },
  {
   "cell_type": "code",
   "execution_count": 13,
   "metadata": {},
   "outputs": [],
   "source": [
    "def optimize_rf_params(X_train, y_train):\n",
    "    \"\"\"\n",
    "    Realiza búsqueda de hiperparámetros simplificada para Random Forest\n",
    "    \"\"\"\n",
    "    # Grid más simple y enfocado\n",
    "    param_grid = {\n",
    "        'n_estimators': [100, 200],          \n",
    "        'max_depth': [10, 20],               \n",
    "        'min_samples_split': [2, 5],         \n",
    "        'max_features': ['sqrt']             \n",
    "    }\n",
    "    \n",
    "    rf = RandomForestClassifier(random_state=42)\n",
    "    cv = StratifiedKFold(n_splits=3)         # Reducido a 3 folds\n",
    "    \n",
    "    grid_search = GridSearchCV(\n",
    "        estimator=rf,\n",
    "        param_grid=param_grid,\n",
    "        cv=cv,\n",
    "        scoring='f1',\n",
    "        n_jobs=-1,\n",
    "        verbose=1\n",
    "    )\n",
    "    \n",
    "    grid_search.fit(X_train, y_train)\n",
    "    \n",
    "    print(\"Mejores parámetros:\", grid_search.best_params_)\n",
    "    print(\"Mejor score:\", grid_search.best_score_)\n",
    "    \n",
    "    return grid_search.best_estimator_"
   ]
  },
  {
   "cell_type": "code",
   "execution_count": 10,
   "metadata": {},
   "outputs": [],
   "source": [
    "# 4. Función para análisis de características importantes\n",
    "def plot_feature_importance(model, X):\n",
    "    \"\"\"\n",
    "    Visualiza la importancia de características\n",
    "    \"\"\"\n",
    "    importances = pd.DataFrame({\n",
    "        'feature': X.columns,\n",
    "        'importance': model.feature_importances_\n",
    "    }).sort_values('importance', ascending=False)\n",
    "    \n",
    "    plt.figure(figsize=(10, 6))\n",
    "    sns.barplot(data=importances, x='importance', y='feature')\n",
    "    plt.title('Importancia de Características')\n",
    "    plt.tight_layout()\n",
    "    plt.show()\n",
    "    \n",
    "    return importances"
   ]
  },
  {
   "cell_type": "code",
   "execution_count": 11,
   "metadata": {},
   "outputs": [],
   "source": [
    "def plot_learning_curves(model, X, y):\n",
    "    \"\"\"\n",
    "    Visualiza curvas de aprendizaje\n",
    "    \"\"\"\n",
    "    train_sizes, train_scores, test_scores = learning_curve(\n",
    "        model, X, y,\n",
    "        cv=5,\n",
    "        n_jobs=-1,\n",
    "        train_sizes=np.linspace(0.1, 1.0, 10),\n",
    "        scoring='f1'\n",
    "    )\n",
    "    \n",
    "    train_mean = np.mean(train_scores, axis=1)\n",
    "    train_std = np.std(train_scores, axis=1)\n",
    "    test_mean = np.mean(test_scores, axis=1)\n",
    "    test_std = np.std(test_scores, axis=1)\n",
    "    \n",
    "    plt.figure(figsize=(10, 6))\n",
    "    plt.plot(train_sizes, train_mean, label='Training score')\n",
    "    plt.plot(train_sizes, test_mean, label='Cross-validation score')\n",
    "    plt.fill_between(train_sizes, train_mean - train_std, train_mean + train_std, alpha=0.1)\n",
    "    plt.fill_between(train_sizes, test_mean - test_std, test_mean + test_std, alpha=0.1)\n",
    "    plt.xlabel('Training Examples')\n",
    "    plt.ylabel('Score')\n",
    "    plt.title('Learning Curves')\n",
    "    plt.legend(loc='best')\n",
    "    plt.grid(True)\n",
    "    plt.show()"
   ]
  },
  {
   "cell_type": "code",
   "execution_count": 14,
   "metadata": {},
   "outputs": [
    {
     "name": "stdout",
     "output_type": "stream",
     "text": [
      "Iniciando optimización de hiperparámetros...\n",
      "Fitting 3 folds for each of 8 candidates, totalling 24 fits\n",
      "Mejores parámetros: {'max_depth': 20, 'max_features': 'sqrt', 'min_samples_split': 2, 'n_estimators': 200}\n",
      "Mejor score: 0.9835274357430054\n"
     ]
    }
   ],
   "source": [
    "# Ejecutar optimización\n",
    "print(\"Iniciando optimización de hiperparámetros...\")\n",
    "best_rf = optimize_rf_params(X_train, y_train)\n"
   ]
  },
  {
   "cell_type": "code",
   "execution_count": 15,
   "metadata": {},
   "outputs": [
    {
     "data": {
      "image/png": "[encoded data removed]",
      "text/plain": [
       "<Figure size 1000x600 with 1 Axes>"
      ]
     },
     "metadata": {},
     "output_type": "display_data"
    },
    {
     "data": {
      "text/html": [
       "<div>\n",
       "<style scoped>\n",
       "    .dataframe tbody tr th:only-of-type {\n",
       "        vertical-align: middle;\n",
       "    }\n",
       "\n",
       "    .dataframe tbody tr th {\n",
       "        vertical-align: top;\n",
       "    }\n",
       "\n",
       "    .dataframe thead th {\n",
       "        text-align: right;\n",
       "    }\n",
       "</style>\n",
       "<table border=\"1\" class=\"dataframe\">\n",
       "  <thead>\n",
       "    <tr style=\"text-align: right;\">\n",
       "      <th></th>\n",
       "      <th>feature</th>\n",
       "      <th>importance</th>\n",
       "    </tr>\n",
       "  </thead>\n",
       "  <tbody>\n",
       "    <tr>\n",
       "      <th>0</th>\n",
       "      <td>V14</td>\n",
       "      <td>0.395427</td>\n",
       "    </tr>\n",
       "    <tr>\n",
       "      <th>1</th>\n",
       "      <td>V10</td>\n",
       "      <td>0.263605</td>\n",
       "    </tr>\n",
       "    <tr>\n",
       "      <th>3</th>\n",
       "      <td>V12</td>\n",
       "      <td>0.183181</td>\n",
       "    </tr>\n",
       "    <tr>\n",
       "      <th>2</th>\n",
       "      <td>V4</td>\n",
       "      <td>0.133142</td>\n",
       "    </tr>\n",
       "    <tr>\n",
       "      <th>4</th>\n",
       "      <td>V1</td>\n",
       "      <td>0.024644</td>\n",
       "    </tr>\n",
       "  </tbody>\n",
       "</table>\n",
       "</div>"
      ],
      "text/plain": [
       "  feature  importance\n",
       "0     V14    0.395427\n",
       "1     V10    0.263605\n",
       "3     V12    0.183181\n",
       "2      V4    0.133142\n",
       "4      V1    0.024644"
      ]
     },
     "execution_count": 15,
     "metadata": {},
     "output_type": "execute_result"
    }
   ],
   "source": [
    "plot_feature_importance(model= best_rf, X= X)"
   ]
  },
  {
   "cell_type": "code",
   "execution_count": 16,
   "metadata": {},
   "outputs": [
    {
     "data": {
      "image/png": "[encoded data removed]",
      "text/plain": [
       "<Figure size 1000x600 with 1 Axes>"
      ]
     },
     "metadata": {},
     "output_type": "display_data"
    }
   ],
   "source": [
    "plot_learning_curves(model= best_rf, X= X, y= y)"
   ]
  }
 ],
 "metadata": {
  "kernelspec": {
   "display_name": "fraud_detection",
   "language": "python",
   "name": "python3"
  },
  "language_info": {
   "codemirror_mode": {
    "name": "ipython",
    "version": 3
   },
   "file_extension": ".py",
   "mimetype": "text/x-python",
   "name": "python",
   "nbconvert_exporter": "python",
   "pygments_lexer": "ipython3",
   "version": "3.8.20"
  }
 },
 "nbformat": 4,
 "nbformat_minor": 2
}
