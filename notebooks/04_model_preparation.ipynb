{
 "cells": [
  {
   "cell_type": "code",
   "execution_count": 2,
   "metadata": {},
   "outputs": [
    {
     "name": "stdout",
     "output_type": "stream",
     "text": [
      "Buscando config en: d:\\Proyectos Personales ML\\Fraud detection\\config\\config.yaml\n",
      "Ruta de datos: d:\\Proyectos Personales ML\\Fraud detection\\data\\raw\\data2.csv\n",
      "Datos cargados exitosamente\n"
     ]
    }
   ],
   "source": [
    "import os\n",
    "import sys\n",
    "root_dir = os.path.abspath(os.path.join(os.getcwd(), '..'))\n",
    "sys.path.append(root_dir)\n",
    "\n",
    "from src.data.data_loader import DataLoader\n",
    "import pandas as pd\n",
    "import numpy as np\n",
    "from sklearn.preprocessing import LabelEncoder, StandardScaler\n",
    "from sklearn.model_selection import train_test_split\n",
    "\n",
    "# Cargar datos\n",
    "data_loader = DataLoader()\n",
    "df = data_loader.load_data()"
   ]
  },
  {
   "cell_type": "code",
   "execution_count": 3,
   "metadata": {},
   "outputs": [
    {
     "name": "stdout",
     "output_type": "stream",
     "text": [
      "Dimensiones de los datos:\n",
      "X_train: (8000, 5)\n",
      "X_test: (2000, 5)\n"
     ]
    },
    {
     "name": "stderr",
     "output_type": "stream",
     "text": [
      "C:\\Users\\leona\\AppData\\Local\\Temp\\ipykernel_9088\\358966059.py:11: SettingWithCopyWarning: \n",
      "A value is trying to be set on a copy of a slice from a DataFrame.\n",
      "Try using .loc[row_indexer,col_indexer] = value instead\n",
      "\n",
      "See the caveats in the documentation: https://pandas.pydata.org/pandas-docs/stable/user_guide/indexing.html#returning-a-view-versus-a-copy\n",
      "  X['Profession'] = le.fit_transform(X['Profession'])\n",
      "C:\\Users\\leona\\AppData\\Local\\Temp\\ipykernel_9088\\358966059.py:15: SettingWithCopyWarning: \n",
      "A value is trying to be set on a copy of a slice from a DataFrame.\n",
      "Try using .loc[row_indexer,col_indexer] = value instead\n",
      "\n",
      "See the caveats in the documentation: https://pandas.pydata.org/pandas-docs/stable/user_guide/indexing.html#returning-a-view-versus-a-copy\n",
      "  X[numeric_cols] = scaler.fit_transform(X[numeric_cols])\n"
     ]
    }
   ],
   "source": [
    "# Crear columnas de fecha\n",
    "df['expiry_year'] = df['Expiry'].str[:2].astype(int)\n",
    "df['expiry_month'] = df['Expiry'].str[3:].astype(int)\n",
    "\n",
    "# Preparar datos\n",
    "X = df[['Profession', 'Income', 'Security_code', 'expiry_year', 'expiry_month']]\n",
    "y = df['Fraud']\n",
    "\n",
    "# Codificar y escalar\n",
    "le = LabelEncoder()\n",
    "X['Profession'] = le.fit_transform(X['Profession'])\n",
    "\n",
    "scaler = StandardScaler()\n",
    "numeric_cols = ['Income', 'Security_code']\n",
    "X[numeric_cols] = scaler.fit_transform(X[numeric_cols])\n",
    "\n",
    "# Split\n",
    "X_train, X_test, y_train, y_test = train_test_split(\n",
    "    X, y, test_size=0.2, random_state=42, stratify=y\n",
    ")\n",
    "\n",
    "print(\"Dimensiones de los datos:\")\n",
    "print(f\"X_train: {X_train.shape}\")\n",
    "print(f\"X_test: {X_test.shape}\")"
   ]
  },
  {
   "cell_type": "code",
   "execution_count": 4,
   "metadata": {},
   "outputs": [
    {
     "name": "stdout",
     "output_type": "stream",
     "text": [
      "          Modelo  Accuracy  Precision  Recall      F1  ROC_AUC\n",
      "2            SVM    0.5095     0.5102  0.5484  0.5286   0.5094\n",
      "1        XGBoost    0.4865     0.4882  0.4935  0.4908   0.4865\n",
      "0  Random Forest    0.4775     0.4773  0.4397  0.4577   0.4776\n"
     ]
    }
   ],
   "source": [
    "from sklearn.ensemble import RandomForestClassifier\n",
    "from xgboost import XGBClassifier\n",
    "from sklearn.svm import SVC\n",
    "from sklearn.metrics import accuracy_score, precision_score, recall_score, f1_score, roc_auc_score\n",
    "import pandas as pd\n",
    "\n",
    "# Definir modelos y parámetros\n",
    "models = {\n",
    "   'Random Forest': RandomForestClassifier(\n",
    "       n_estimators=100,\n",
    "       max_depth=10,\n",
    "       class_weight='balanced'\n",
    "   ),\n",
    "   'XGBoost': XGBClassifier(\n",
    "       n_estimators=100,\n",
    "       max_depth=6,\n",
    "       learning_rate=0.1\n",
    "   ),\n",
    "   'SVM': SVC(\n",
    "       kernel='rbf',\n",
    "       probability=True\n",
    "   )\n",
    "}\n",
    "\n",
    "# Entrenar modelos y obtener métricas\n",
    "results = []\n",
    "for name, model in models.items():\n",
    "   model.fit(X_train, y_train)\n",
    "   y_pred = model.predict(X_test)\n",
    "   \n",
    "   metrics = {\n",
    "       'Modelo': name,\n",
    "       'Accuracy': accuracy_score(y_test, y_pred),\n",
    "       'Precision': precision_score(y_test, y_pred),\n",
    "       'Recall': recall_score(y_test, y_pred),\n",
    "       'F1': f1_score(y_test, y_pred),\n",
    "       'ROC_AUC': roc_auc_score(y_test, y_pred)\n",
    "   }\n",
    "   results.append(metrics)\n",
    "\n",
    "# Crear DataFrame y ordenar por precisión\n",
    "df_results = pd.DataFrame(results)\n",
    "df_results = df_results.sort_values('Precision', ascending=False)\n",
    "print(df_results.round(4))"
   ]
  },
  {
   "cell_type": "code",
   "execution_count": 7,
   "metadata": {},
   "outputs": [],
   "source": [
    "from sklearn.linear_model import LogisticRegression\n",
    "from sklearn.metrics import confusion_matrix, classification_report, accuracy_score"
   ]
  },
  {
   "cell_type": "code",
   "execution_count": 8,
   "metadata": {},
   "outputs": [],
   "source": [
    "def logistic_reg(c_, solver_, multiclass_):\n",
    "    log_reg_model= LogisticRegression(random_state= 42, solver= solver_, multi_class= multiclass_, n_jobs= -1, C= c_)\n",
    "    return log_reg_model"
   ]
  },
  {
   "cell_type": "code",
   "execution_count": 10,
   "metadata": {},
   "outputs": [
    {
     "name": "stdout",
     "output_type": "stream",
     "text": [
      "[[451 546]\n",
      " [424 579]]\n",
      "0.515\n"
     ]
    },
    {
     "name": "stderr",
     "output_type": "stream",
     "text": [
      "c:\\Users\\leona\\anaconda3\\envs\\fraud_detection\\lib\\site-packages\\sklearn\\linear_model\\_sag.py:350: ConvergenceWarning: The max_iter was reached which means the coef_ did not converge\n",
      "  warnings.warn(\n"
     ]
    }
   ],
   "source": [
    "model = logistic_reg(1,'saga', 'multinomial')\n",
    "model.fit(X_train, y_train)\n",
    "predictions= model.predict(X_test)\n",
    "\n",
    "\n",
    "\n",
    "print(confusion_matrix(y_test, predictions))\n",
    "print(accuracy_score(y_test, predictions))\n"
   ]
  },
  {
   "cell_type": "code",
   "execution_count": 11,
   "metadata": {},
   "outputs": [
    {
     "name": "stderr",
     "output_type": "stream",
     "text": [
      "c:\\Users\\leona\\anaconda3\\envs\\fraud_detection\\lib\\site-packages\\sklearn\\linear_model\\_logistic.py:1222: UserWarning: 'n_jobs' > 1 does not have any effect when 'solver' is set to 'liblinear'. Got 'n_jobs' = 8.\n",
      "  warnings.warn(\n",
      "c:\\Users\\leona\\anaconda3\\envs\\fraud_detection\\lib\\site-packages\\sklearn\\linear_model\\_sag.py:350: ConvergenceWarning: The max_iter was reached which means the coef_ did not converge\n",
      "  warnings.warn(\n"
     ]
    },
    {
     "name": "stdout",
     "output_type": "stream",
     "text": [
      "Error con solver: liblinear, multiclass: multinomial. Detalles: Solver liblinear does not support a multinomial backend.\n"
     ]
    },
    {
     "name": "stderr",
     "output_type": "stream",
     "text": [
      "c:\\Users\\leona\\anaconda3\\envs\\fraud_detection\\lib\\site-packages\\sklearn\\linear_model\\_sag.py:350: ConvergenceWarning: The max_iter was reached which means the coef_ did not converge\n",
      "  warnings.warn(\n"
     ]
    }
   ],
   "source": [
    "multiclass = ['ovr', 'multinomial']\n",
    "solvers_list = ['newton-cg', 'lbfgs', 'liblinear', 'sag', 'saga']\n",
    "scores = []\n",
    "params = []\n",
    "\n",
    "for i in multiclass:\n",
    "    for j in solvers_list:\n",
    "        try:\n",
    "            # Crear y entrenar el modelo\n",
    "            model = logistic_reg(1, j, i)\n",
    "            model.fit(X_train, y_train)\n",
    "\n",
    "            # Hacer predicciones\n",
    "            predictions = model.predict(X_test)\n",
    "\n",
    "            # Guardar parámetros y puntajes\n",
    "            params.append(f\"{i} + {j}\")\n",
    "            accuracy = accuracy_score(y_test, predictions)\n",
    "            scores.append(accuracy)\n",
    "        except Exception as e:\n",
    "            print(f\"Error con solver: {j}, multiclass: {i}. Detalles: {e}\")"
   ]
  },
  {
   "cell_type": "code",
   "execution_count": 12,
   "metadata": {},
   "outputs": [
    {
     "name": "stdout",
     "output_type": "stream",
     "text": [
      "Params: ['ovr + newton-cg', 'ovr + lbfgs', 'ovr + liblinear', 'ovr + sag', 'ovr + saga', 'multinomial + newton-cg', 'multinomial + lbfgs', 'multinomial + sag', 'multinomial + saga']\n",
      "Scores: [0.5145, 0.5145, 0.5155, 0.515, 0.5155, 0.5145, 0.5145, 0.5145, 0.515]\n"
     ]
    },
    {
     "data": {
      "image/png": "[encoded data removed]",
      "text/plain": [
       "<Figure size 1000x1000 with 1 Axes>"
      ]
     },
     "metadata": {},
     "output_type": "display_data"
    }
   ],
   "source": [
    "import matplotlib.pyplot as plt\n",
    "import seaborn as sns\n",
    "\n",
    "\n",
    "# Verificar resultados\n",
    "print(\"Params:\", params)\n",
    "print(\"Scores:\", scores)\n",
    "\n",
    "\n",
    "plt.figure(figsize=(10, 10))\n",
    "sns.barplot(x=scores, y=params).set_title('Accuracy Scores')\n",
    "plt.xlabel(\"Accuracy\")\n",
    "plt.ylabel(\"Parameters\")\n",
    "plt.show()"
   ]
  }
 ],
 "metadata": {
  "kernelspec": {
   "display_name": "fraud_detection",
   "language": "python",
   "name": "python3"
  },
  "language_info": {
   "codemirror_mode": {
    "name": "ipython",
    "version": 3
   },
   "file_extension": ".py",
   "mimetype": "text/x-python",
   "name": "python",
   "nbconvert_exporter": "python",
   "pygments_lexer": "ipython3",
   "version": "3.8.20"
  }
 },
 "nbformat": 4,
 "nbformat_minor": 2
}
